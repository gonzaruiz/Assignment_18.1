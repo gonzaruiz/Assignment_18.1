{
 "cells": [
  {
   "cell_type": "code",
   "execution_count": null,
   "metadata": {},
   "outputs": [],
   "source": [
    "# Blodd glucose levels for obese patients have a mean of 100 with a standard deviation of 15. A resercher thinks that a diet hight \n",
    "# in raw cornstarchwill have a positive effect on blood glucose levels. A sample of 36 patients who have tried the raw conrnstarch diet\n",
    "# diet have a mean glucose level of 108. Test the hypothesis that the raw cornstarch had an effect or not."
   ]
  },
  {
   "cell_type": "code",
   "execution_count": null,
   "metadata": {},
   "outputs": [],
   "source": [
    "M = 100\n",
    "SDP = 15\n",
    "M = 108\n",
    "Sample = 36\n",
    "Significance level assumed (.05) \n",
    "\n",
    "Ho - Mean blood glucose <= 100\n",
    "H1 - Mean blood glucose > 100\n",
    "\n",
    "z_alpha(.05) c.v. = 1.645\n",
    "z_score = (108 - 100) / (15/sqrt(36)) = 48/15 = 3.2\n",
    "z_score > critcal value z_alpha, no reject "
   ]
  }
 ],
 "metadata": {
  "kernelspec": {
   "display_name": "Python 3",
   "language": "python",
   "name": "python3"
  },
  "language_info": {
   "codemirror_mode": {
    "name": "ipython",
    "version": 3
   },
   "file_extension": ".py",
   "mimetype": "text/x-python",
   "name": "python",
   "nbconvert_exporter": "python",
   "pygments_lexer": "ipython3",
   "version": "3.6.4"
  }
 },
 "nbformat": 4,
 "nbformat_minor": 2
}
